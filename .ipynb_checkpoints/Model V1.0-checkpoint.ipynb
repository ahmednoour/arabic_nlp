{
 "cells": [
  {
   "cell_type": "code",
   "execution_count": 2,
   "id": "8db7ed27",
   "metadata": {},
   "outputs": [
    {
     "name": "stderr",
     "output_type": "stream",
     "text": [
      "[nltk_data] Downloading package punkt to\n",
      "[nltk_data]     C:\\Users\\hp\\AppData\\Roaming\\nltk_data...\n",
      "[nltk_data]   Package punkt is already up-to-date!\n",
      "[nltk_data] Downloading package averaged_perceptron_tagger to\n",
      "[nltk_data]     C:\\Users\\hp\\AppData\\Roaming\\nltk_data...\n",
      "[nltk_data]   Package averaged_perceptron_tagger is already up-to-\n",
      "[nltk_data]       date!\n",
      "[nltk_data] Downloading package wordnet to\n",
      "[nltk_data]     C:\\Users\\hp\\AppData\\Roaming\\nltk_data...\n",
      "[nltk_data]   Package wordnet is already up-to-date!\n",
      "C:\\Users\\hp\\anaconda3\\lib\\site-packages\\gensim\\similarities\\__init__.py:15: UserWarning: The gensim.similarities.levenshtein submodule is disabled, because the optional Levenshtein package <https://pypi.org/project/python-Levenshtein/> is unavailable. Install Levenhstein (e.g. `pip install python-Levenshtein`) to suppress this warning.\n",
      "  warnings.warn(msg)\n"
     ]
    }
   ],
   "source": [
    "import pandas as pd\n",
    "import numpy as np\n",
    "import seaborn as sns\n",
    "sns.set()\n",
    "sns.set(style=\"darkgrid\")\n",
    "import matplotlib.pyplot as plt\n",
    "#for text pre-processing\n",
    "import re, string\n",
    "import nltk\n",
    "import pandas as pd\n",
    "import numpy as np\n",
    "import seaborn as sns\n",
    "sns.set()\n",
    "sns.set(style=\"darkgrid\")\n",
    "import matplotlib.pyplot as plt\n",
    "import arabic_reshaper\n",
    "from bidi.algorithm import get_display\n",
    "#for text pre-processing\n",
    "import re, string\n",
    "import nltk\n",
    "from nltk.tokenize import word_tokenize\n",
    "from nltk import word_tokenize\n",
    "from nltk.stem.isri import ISRIStemmer\n",
    "from nltk.corpus import stopwords\n",
    "from nltk.tokenize import word_tokenize\n",
    "from nltk.stem import SnowballStemmer\n",
    "from nltk.corpus import wordnet\n",
    "from nltk.stem import WordNetLemmatizer\n",
    "nltk.download('punkt')\n",
    "nltk.download('averaged_perceptron_tagger')\n",
    "nltk.download('wordnet')\n",
    "#for model-building\n",
    "from sklearn.model_selection import train_test_split,cross_val_score, RandomizedSearchCV\n",
    "from sklearn import model_selection, naive_bayes, svm\n",
    "from sklearn.linear_model import LogisticRegression\n",
    "from sklearn.naive_bayes import MultinomialNB\n",
    "\n",
    "import sklearn.metrics as metrics\n",
    "from sklearn.metrics import classification_report, f1_score, accuracy_score, confusion_matrix\n",
    "from sklearn.metrics import roc_curve, auc, roc_auc_score\n",
    "#bag of words\n",
    "from sklearn.feature_extraction.text import TfidfVectorizer\n",
    "from sklearn.feature_extraction.text import CountVectorizer\n",
    "#for word embedding\n",
    "import gensim\n",
    "from gensim.models import Word2Vec\n",
    "import warnings\n",
    "warnings.filterwarnings(\"ignore\")\n",
    "# seeding\n",
    "np.random.seed(123)"
   ]
  },
  {
   "cell_type": "code",
   "execution_count": 3,
   "id": "d111277e",
   "metadata": {},
   "outputs": [],
   "source": [
    "read_file = pd.read_excel (r\"C:\\Users\\hp\\OneDrive\\Desktop\\ds.xlsx\")\n",
    "  \n",
    "# Write the dataframe object\n",
    "# into csv file\n",
    "read_file.to_csv (r\"C:\\Users\\hp\\OneDrive\\Desktop\\ds.csv\",\n",
    "                  index = None,\n",
    "                  header=True)\n",
    "\n",
    "df0 = pd.DataFrame(pd.read_csv(r\"C:\\Users\\hp\\OneDrive\\Desktop\\ds.csv\"))\n"
   ]
  },
  {
   "cell_type": "code",
   "execution_count": 4,
   "id": "860cf719",
   "metadata": {},
   "outputs": [
    {
     "name": "stdout",
     "output_type": "stream",
     "text": [
      "(506, 2)\n"
     ]
    },
    {
     "data": {
      "text/html": [
       "<div>\n",
       "<style scoped>\n",
       "    .dataframe tbody tr th:only-of-type {\n",
       "        vertical-align: middle;\n",
       "    }\n",
       "\n",
       "    .dataframe tbody tr th {\n",
       "        vertical-align: top;\n",
       "    }\n",
       "\n",
       "    .dataframe thead th {\n",
       "        text-align: right;\n",
       "    }\n",
       "</style>\n",
       "<table border=\"1\" class=\"dataframe\">\n",
       "  <thead>\n",
       "    <tr style=\"text-align: right;\">\n",
       "      <th></th>\n",
       "      <th>Disease</th>\n",
       "      <th>Symptoms</th>\n",
       "    </tr>\n",
       "  </thead>\n",
       "  <tbody>\n",
       "    <tr>\n",
       "      <th>0</th>\n",
       "      <td>نزلات البرد</td>\n",
       "      <td>قشعريرة الشعور بالتعب السعال حمى شديدة صداع سي...</td>\n",
       "    </tr>\n",
       "    <tr>\n",
       "      <th>1</th>\n",
       "      <td>الفشل الكلوي</td>\n",
       "      <td>تورم القدمين احتباس السوائل الغثيان  انخفاض اخ...</td>\n",
       "    </tr>\n",
       "    <tr>\n",
       "      <th>2</th>\n",
       "      <td>قرحة المعدة</td>\n",
       "      <td>الم في المعدة فقدان الشهية الشعور بالشبع القيء...</td>\n",
       "    </tr>\n",
       "    <tr>\n",
       "      <th>3</th>\n",
       "      <td>الفشل الكلوي</td>\n",
       "      <td>تورم القدمين احتباس السوائل  انخفاض اخراج البو...</td>\n",
       "    </tr>\n",
       "    <tr>\n",
       "      <th>4</th>\n",
       "      <td>فيرس سي</td>\n",
       "      <td>الم في العضلات الم في المفاصل الشعور بالتعب ف...</td>\n",
       "    </tr>\n",
       "    <tr>\n",
       "      <th>...</th>\n",
       "      <td>...</td>\n",
       "      <td>...</td>\n",
       "    </tr>\n",
       "    <tr>\n",
       "      <th>501</th>\n",
       "      <td>قرحة المعدة</td>\n",
       "      <td>الم في المعدة فقدان الوزن فقدان الشهية القيء ا...</td>\n",
       "    </tr>\n",
       "    <tr>\n",
       "      <th>502</th>\n",
       "      <td>الفشل الكلوي</td>\n",
       "      <td>انخفاض اخراج البول الخمول  تورم القدمين  احتبا...</td>\n",
       "    </tr>\n",
       "    <tr>\n",
       "      <th>503</th>\n",
       "      <td>قرحة المعدة</td>\n",
       "      <td>الم في المعدة فقدان الوزن فقدان الشهية القيء ا...</td>\n",
       "    </tr>\n",
       "    <tr>\n",
       "      <th>504</th>\n",
       "      <td>الفشل الكلوي</td>\n",
       "      <td>انخفاض اخراج البول احتباس السوائل  تورم القدمي...</td>\n",
       "    </tr>\n",
       "    <tr>\n",
       "      <th>505</th>\n",
       "      <td>قرحة المعدة</td>\n",
       "      <td>الم في المعدة فقدان الوزن فقدان الشهية القيء ا...</td>\n",
       "    </tr>\n",
       "  </tbody>\n",
       "</table>\n",
       "<p>506 rows × 2 columns</p>\n",
       "</div>"
      ],
      "text/plain": [
       "          Disease                                           Symptoms\n",
       "0     نزلات البرد  قشعريرة الشعور بالتعب السعال حمى شديدة صداع سي...\n",
       "1    الفشل الكلوي  تورم القدمين احتباس السوائل الغثيان  انخفاض اخ...\n",
       "2     قرحة المعدة  الم في المعدة فقدان الشهية الشعور بالشبع القيء...\n",
       "3    الفشل الكلوي  تورم القدمين احتباس السوائل  انخفاض اخراج البو...\n",
       "4         فيرس سي   الم في العضلات الم في المفاصل الشعور بالتعب ف...\n",
       "..            ...                                                ...\n",
       "501   قرحة المعدة  الم في المعدة فقدان الوزن فقدان الشهية القيء ا...\n",
       "502  الفشل الكلوي  انخفاض اخراج البول الخمول  تورم القدمين  احتبا...\n",
       "503   قرحة المعدة  الم في المعدة فقدان الوزن فقدان الشهية القيء ا...\n",
       "504  الفشل الكلوي  انخفاض اخراج البول احتباس السوائل  تورم القدمي...\n",
       "505   قرحة المعدة  الم في المعدة فقدان الوزن فقدان الشهية القيء ا...\n",
       "\n",
       "[506 rows x 2 columns]"
      ]
     },
     "execution_count": 4,
     "metadata": {},
     "output_type": "execute_result"
    }
   ],
   "source": [
    "# dataframe shape\n",
    "df0=pd.read_csv(r\"C:\\Users\\hp\\OneDrive\\Desktop\\ds.csv\")\n",
    "print(df0.shape)\n",
    "df0"
   ]
  },
  {
   "cell_type": "code",
   "execution_count": 5,
   "id": "ef3954cb",
   "metadata": {},
   "outputs": [
    {
     "name": "stdout",
     "output_type": "stream",
     "text": [
      "قرحة المعدة        128\n",
      "الفشل الكلوي       119\n",
      "نزلات البرد        100\n",
      "الالتهاب الرئوي     80\n",
      "فيرس سي             79\n",
      "Name: Disease, dtype: int64\n"
     ]
    },
    {
     "data": {
      "text/plain": [
       "<AxesSubplot:ylabel='Disease'>"
      ]
     },
     "execution_count": 5,
     "metadata": {},
     "output_type": "execute_result"
    },
    {
     "data": {
      "image/png": "[encoded data removed]",
      "text/plain": [
       "<Figure size 432x288 with 1 Axes>"
      ]
     },
     "metadata": {},
     "output_type": "display_data"
    }
   ],
   "source": [
    "# CLASS DISTRIBUTION\n",
    "#if dataset is balanced or not\n",
    "x=df0['Disease'].value_counts()\n",
    "print(x)\n",
    "#sns.barplot(x=\"Item_Type\", y=\"Item_MRP\", data=data_BM[:5])\n",
    "sns.barplot(x.index,x)"
   ]
  },
  {
   "cell_type": "code",
   "execution_count": 6,
   "id": "8ea384cc",
   "metadata": {},
   "outputs": [
    {
     "data": {
      "text/plain": [
       "Disease     0\n",
       "Symptoms    0\n",
       "dtype: int64"
      ]
     },
     "execution_count": 6,
     "metadata": {},
     "output_type": "execute_result"
    }
   ],
   "source": [
    "#Missing values\n",
    "df0.isna().sum()"
   ]
  },
  {
   "cell_type": "code",
   "execution_count": 7,
   "id": "e24a0ddc",
   "metadata": {},
   "outputs": [
    {
     "name": "stdout",
     "output_type": "stream",
     "text": [
      "12.7578125\n",
      "11.016806722689076\n",
      "17.61\n",
      "15.15\n",
      "14.10126582278481\n",
      "75.9375\n",
      "69.01680672268908\n",
      "99.88\n",
      "88.125\n",
      "83.78481012658227\n",
      "12.1328125\n",
      "10.705882352941176\n",
      "16.99\n",
      "14.7125\n",
      "10.784810126582279\n"
     ]
    }
   ],
   "source": [
    "#1. WORD-COUNT\n",
    "df0['word_count'] = df0['Symptoms'].apply(lambda x: len(str(x).split()))\n",
    "print(df0[df0['Disease']=='قرحة المعدة']['word_count'].mean()) \n",
    "print(df0[df0['Disease']=='الفشل الكلوي']['word_count'].mean())\n",
    "print(df0[df0['Disease']=='نزلات البرد']['word_count'].mean())\n",
    "print(df0[df0['Disease']=='الالتهاب الرئوي']['word_count'].mean())\n",
    "print(df0[df0['Disease']=='فيرس سي']['word_count'].mean())\n",
    "#Disaster tweets are more wordy than the non-disaster tweets\n",
    "\n",
    "#2. CHARACTER-COUNT\n",
    "df0['char_count'] = df0['Symptoms'].apply(lambda x: len(str(x)))\n",
    "print(df0[df0['Disease']=='قرحة المعدة']['char_count'].mean()) \n",
    "print(df0[df0['Disease']=='الفشل الكلوي']['char_count'].mean())\n",
    "print(df0[df0['Disease']=='نزلات البرد']['char_count'].mean())\n",
    "print(df0[df0['Disease']=='الالتهاب الرئوي']['char_count'].mean())\n",
    "print(df0[df0['Disease']=='فيرس سي']['char_count'].mean())\n",
    "#Disaster tweets are longer than the non-disaster tweets\n",
    "\n",
    "#3. UNIQUE WORD-COUNT\n",
    "df0['unique_word_count'] = df0['Symptoms'].apply(lambda x: len(set(str(x).split())))\n",
    "print(df0[df0['Disease']=='قرحة المعدة']['unique_word_count'].mean()) #Disaster tweets\n",
    "print(df0[df0['Disease']=='الفشل الكلوي']['unique_word_count'].mean()) \n",
    "print(df0[df0['Disease']=='نزلات البرد']['unique_word_count'].mean())#Non-Disaster tweets\n",
    "print(df0[df0['Disease']=='الالتهاب الرئوي']['unique_word_count'].mean())\n",
    "print(df0[df0['Disease']=='فيرس سي']['unique_word_count'].mean())"
   ]
  },
  {
   "cell_type": "code",
   "execution_count": 8,
   "id": "417d622f",
   "metadata": {},
   "outputs": [
    {
     "data": {
      "image/png": "[encoded data removed]",
      "text/plain": [
       "<Figure size 720x288 with 5 Axes>"
      ]
     },
     "metadata": {},
     "output_type": "display_data"
    }
   ],
   "source": [
    "#Plotting word-count per tweet\n",
    "fig,ax =plt.subplots(nrows=1, ncols=5,figsize=(10,4))\n",
    "train_words=df0[df0['Disease']=='قرحة المعدة']['word_count']\n",
    "ax[0].hist(train_words,color='red')\n",
    "ax[0].set_title('قرحة المعدة')\n",
    "train_words=df0[df0['Disease']=='الفشل الكلوي']['word_count']\n",
    "ax[1].hist(train_words,color='green')\n",
    "ax[1].set_title('الفشل الكلوي')\n",
    "train_words=df0[df0['Disease']=='نزلات البرد']['word_count']\n",
    "ax[2].hist(train_words,color='blue')\n",
    "ax[2].set_title('نزلات البرد')\n",
    "train_words=df0[df0['Disease']=='الالتهاب الرئوي']['word_count']\n",
    "ax[3].hist(train_words,color='yellow')\n",
    "ax[3].set_title('الالتهاب الرئوي')\n",
    "train_words=df0[df0['Disease']=='فيرس سي']['word_count']\n",
    "ax[4].hist(train_words,color='black')\n",
    "ax[4].set_title('فيرس سي')\n",
    "\n",
    "fig.suptitle(\"التصنيف\")\n",
    "plt.show()"
   ]
  },
  {
   "cell_type": "code",
   "execution_count": 9,
   "id": "97ebe699",
   "metadata": {},
   "outputs": [
    {
     "name": "stdout",
     "output_type": "stream",
     "text": [
      " قشعريرة الشعور بالتعب السعال حمى شديدة صداع سي تورم القدمين احتباس السوائل الغثيان انخفاض اخ الم في المعدة فقدان الشهية الشعور بالشبع القيء تورم القدمين احتباس السوائل انخفاض اخراج البو الم في العضلات الم في المفاصل الشعور بالتعب ف الم في المعدة فقدان الوزن فقدان الشهية القيء ا انخفاض اخراج البول الخمول تورم القدمين احتبا الم في المعدة فقدان الوزن فقدان الشهية القيء ا انخفاض اخراج البول احتباس السوائل تورم القدمي الم في المعدة فقدان الوزن فقدان الشهية القيء ا Name Symptoms Length dtype object\n"
     ]
    }
   ],
   "source": [
    "#regular expression\n",
    "data=df0['Symptoms']\n",
    "def preprocess(data):\n",
    "    \n",
    "    #text=text.strip()  #get rid of leading/trailing whitespace \n",
    "    data=re.compile('<.*?>').sub('', data) #Remove HTML tags/markups\n",
    "    data = re.compile('[%s]' % re.escape(string.punctuation)).sub(' ', data)  #Replace punctuation with space. Careful since punctuation can sometime be useful\n",
    "    data = re.sub('\\s+', ' ', data)  #Remove extra space and tabs\n",
    "    data = re.sub(r'\\[[0-9]*\\]',' ',data) #[0-9] matches any digit (0 to 10000...)\n",
    "    data=re.sub(r'[^\\w\\s]', '', str(data).strip())\n",
    "    data = re.sub(r'\\d',' ',data) #matches any digit from 0 to 100000..., \\D matches non-digits\n",
    "    data = re.sub(r'\\s+',' ',data) #\\s matches any whitespace, \\s+ matches multiple whitespace, \\S matches non-whitespace \n",
    "    \n",
    "    return data\n",
    "text=preprocess(str(data))\n",
    "print(text)\n"
   ]
  },
  {
   "cell_type": "markdown",
   "id": "e12f280f",
   "metadata": {},
   "source": [
    "# stemming return part of word \"not often understandable\" lemmatizing return the root\n"
   ]
  },
  {
   "cell_type": "code",
   "execution_count": 10,
   "id": "eaccbded",
   "metadata": {},
   "outputs": [
    {
     "name": "stdout",
     "output_type": "stream",
     "text": [
      "0 قشعريرة الشعور بالتعب السعال حمى شديدة صداع سي... 1 تورم القدمين احتباس السوائل الغثيان انخفاض اخ... 2 الم المعدة فقدان الشهية الشعور بالشبع القيء... 3 تورم القدمين احتباس السوائل انخفاض اخراج البو... 4 الم العضلات الم المفاصل الشعور بالتعب ف... ... 501 الم المعدة فقدان الوزن فقدان الشهية القيء ا... 502 انخفاض اخراج البول الخمول تورم القدمين احتبا... 503 الم المعدة فقدان الوزن فقدان الشهية القيء ا... 504 انخفاض اخراج البول احتباس السوائل تورم القدمي... 505 الم المعدة فقدان الوزن فقدان الشهية القيء ا... Name: Symptoms, Length: 506, dtype: object\n",
      "0 قشعرير شعر تعب سعل حمى شدد صدع سي ... 1 ورم قدم حبس سئل غثي خفض اخ ... 2 الم في عدة فقد شهة شعر شبع قيء ... 3 ورم قدم حبس سئل خفض خرج لبو ... 4 الم في عضل الم في فصل شعر تعب ف ... ... 501 الم في عدة فقد وزن فقد شهة قيء ا ... 502 خفض خرج بول خمل ورم قدم حبا ... 503 الم في عدة فقد وزن فقد شهة قيء ا ... 504 خفض خرج بول حبس سئل ورم قدم ... 505 الم في عدة فقد وزن فقد شهة قيء ا ... Name : Symptoms , Length : 506 , dtype : object\n"
     ]
    }
   ],
   "source": [
    "#stopwords\n",
    "def stopword(data):\n",
    "    a= [i for i in data.split() if i not in stopwords.words('arabic')]\n",
    "    return ' '.join(a)\n",
    "\n",
    "text=stopword(str(data))\n",
    "print(text)\n",
    "\n",
    "#stemming\n",
    "st = ISRIStemmer()\n",
    "def stemming(data):\n",
    "    a=[st.stem(i) for i in word_tokenize(data) ]\n",
    "    return ' '.join(a)\n",
    "text=stemming(str(data))\n",
    "print(text)\n",
    "\n"
   ]
  },
  {
   "cell_type": "code",
   "execution_count": 11,
   "id": "aabf4616",
   "metadata": {},
   "outputs": [
    {
     "name": "stdout",
     "output_type": "stream",
     "text": [
      "0 قشعريرة الشعور بالتعب السعال حمى شديدة صداع سي ... 1 تورم القدمين احتباس السوائل الغثيان انخفاض اخ ... 2 الم في المعدة فقدان الشهية الشعور بالشبع القيء ... 3 تورم القدمين احتباس السوائل انخفاض اخراج البو ... 4 الم في العضلات الم في المفاصل الشعور بالتعب ف ... ... 501 الم في المعدة فقدان الوزن فقدان الشهية القيء ا ... 502 انخفاض اخراج البول الخمول تورم القدمين احتبا ... 503 الم في المعدة فقدان الوزن فقدان الشهية القيء ا ... 504 انخفاض اخراج البول احتباس السوائل تورم القدمي ... 505 الم في المعدة فقدان الوزن فقدان الشهية القيء ا ... Name : Symptoms , Length : 506 , dtype : object\n"
     ]
    }
   ],
   "source": [
    "#lemmatization\n",
    "w1 = WordNetLemmatizer()\n",
    "def lemmatizer(data):\n",
    "    \n",
    "    a=[w1.lemmatize(i) for i in word_tokenize(data) ]\n",
    "    return ' '.join(a)\n",
    "text=lemmatizer(str(data))\n",
    "print(text)"
   ]
  },
  {
   "cell_type": "code",
   "execution_count": 12,
   "id": "d8690d77",
   "metadata": {},
   "outputs": [
    {
     "data": {
      "text/plain": [
       "Disease              category\n",
       "Symptoms               object\n",
       "word_count              int64\n",
       "char_count              int64\n",
       "unique_word_count       int64\n",
       "target               category\n",
       "dtype: object"
      ]
     },
     "execution_count": 12,
     "metadata": {},
     "output_type": "execute_result"
    }
   ],
   "source": [
    "#create target column\n",
    "df0[\"Disease\"] = df0[\"Disease\"].astype('category')\n",
    "df0.dtypes\n",
    "df0[\"target\"] = df0[\"Disease\"].cat.codes\n",
    "df0[\"target\"].value_counts()\n",
    "df0[\"target\"] = df0[\"target\"].astype('category')\n",
    "df0.dtypes\n"
   ]
  },
  {
   "cell_type": "code",
   "execution_count": 14,
   "id": "9ef6b83a",
   "metadata": {},
   "outputs": [
    {
     "data": {
      "text/html": [
       "<div>\n",
       "<style scoped>\n",
       "    .dataframe tbody tr th:only-of-type {\n",
       "        vertical-align: middle;\n",
       "    }\n",
       "\n",
       "    .dataframe tbody tr th {\n",
       "        vertical-align: top;\n",
       "    }\n",
       "\n",
       "    .dataframe thead th {\n",
       "        text-align: right;\n",
       "    }\n",
       "</style>\n",
       "<table border=\"1\" class=\"dataframe\">\n",
       "  <thead>\n",
       "    <tr style=\"text-align: right;\">\n",
       "      <th></th>\n",
       "      <th>Disease</th>\n",
       "      <th>Symptoms</th>\n",
       "      <th>word_count</th>\n",
       "      <th>char_count</th>\n",
       "      <th>unique_word_count</th>\n",
       "      <th>target</th>\n",
       "      <th>clean_text</th>\n",
       "    </tr>\n",
       "  </thead>\n",
       "  <tbody>\n",
       "    <tr>\n",
       "      <th>0</th>\n",
       "      <td>نزلات البرد</td>\n",
       "      <td>قشعريرة الشعور بالتعب السعال حمى شديدة صداع سي...</td>\n",
       "      <td>18</td>\n",
       "      <td>103</td>\n",
       "      <td>18</td>\n",
       "      <td>4</td>\n",
       "      <td>قشعرير شعر تعب سعل حمى شدد صدع سيل انف حتق الم...</td>\n",
       "    </tr>\n",
       "    <tr>\n",
       "      <th>1</th>\n",
       "      <td>الفشل الكلوي</td>\n",
       "      <td>تورم القدمين احتباس السوائل الغثيان  انخفاض اخ...</td>\n",
       "      <td>18</td>\n",
       "      <td>110</td>\n",
       "      <td>18</td>\n",
       "      <td>1</td>\n",
       "      <td>ورم قدم حبس سئل غثي خفض خرج بول ضيق نفس لقئ ال...</td>\n",
       "    </tr>\n",
       "    <tr>\n",
       "      <th>2</th>\n",
       "      <td>قرحة المعدة</td>\n",
       "      <td>الم في المعدة فقدان الشهية الشعور بالشبع القيء...</td>\n",
       "      <td>12</td>\n",
       "      <td>69</td>\n",
       "      <td>12</td>\n",
       "      <td>3</td>\n",
       "      <td>الم عدة فقد شهة شعر شبع قيء دمي فقر لدم جشؤ</td>\n",
       "    </tr>\n",
       "    <tr>\n",
       "      <th>3</th>\n",
       "      <td>الفشل الكلوي</td>\n",
       "      <td>تورم القدمين احتباس السوائل  انخفاض اخراج البو...</td>\n",
       "      <td>16</td>\n",
       "      <td>97</td>\n",
       "      <td>13</td>\n",
       "      <td>1</td>\n",
       "      <td>ورم قدم حبس سئل خفض خرج بول ضيق نفس لقئ الم فى...</td>\n",
       "    </tr>\n",
       "    <tr>\n",
       "      <th>4</th>\n",
       "      <td>فيرس سي</td>\n",
       "      <td>الم في العضلات الم في المفاصل الشعور بالتعب ف...</td>\n",
       "      <td>15</td>\n",
       "      <td>87</td>\n",
       "      <td>11</td>\n",
       "      <td>2</td>\n",
       "      <td>الم عضل الم فصل شعر تعب فقد شهة صفرار عين الم بطن</td>\n",
       "    </tr>\n",
       "    <tr>\n",
       "      <th>5</th>\n",
       "      <td>نزلات البرد</td>\n",
       "      <td>احمرار العين احتقان الم في الصدر فقدان حاسة ا...</td>\n",
       "      <td>17</td>\n",
       "      <td>94</td>\n",
       "      <td>16</td>\n",
       "      <td>4</td>\n",
       "      <td>حمرار عين حتق الم صدر فقد حسة لشم صدع حمى شدد ...</td>\n",
       "    </tr>\n",
       "    <tr>\n",
       "      <th>6</th>\n",
       "      <td>قرحة المعدة</td>\n",
       "      <td>فقدان الشهية الشعور بالشبع القيء الدموي فقر ال...</td>\n",
       "      <td>11</td>\n",
       "      <td>72</td>\n",
       "      <td>11</td>\n",
       "      <td>3</td>\n",
       "      <td>فقد شهة شعر شبع قيء دمي فقر لدم غثي نفخ جشؤ</td>\n",
       "    </tr>\n",
       "    <tr>\n",
       "      <th>7</th>\n",
       "      <td>الفشل الكلوي</td>\n",
       "      <td>تورم القدمين احتباس السوائل  انخفاض اخراج البو...</td>\n",
       "      <td>14</td>\n",
       "      <td>87</td>\n",
       "      <td>14</td>\n",
       "      <td>1</td>\n",
       "      <td>ورم قدم حبس سئل خفض خرج بول ضيق نفس لقئ رفع عد...</td>\n",
       "    </tr>\n",
       "    <tr>\n",
       "      <th>8</th>\n",
       "      <td>قرحة المعدة</td>\n",
       "      <td>الم في المعدة فقدان الشهية الشعور بالشبع القيء...</td>\n",
       "      <td>13</td>\n",
       "      <td>75</td>\n",
       "      <td>13</td>\n",
       "      <td>3</td>\n",
       "      <td>الم عدة فقد شهة شعر شبع قيء دمي فقر لدم غثي لقئ</td>\n",
       "    </tr>\n",
       "    <tr>\n",
       "      <th>9</th>\n",
       "      <td>الفشل الكلوي</td>\n",
       "      <td>تورم القدمين احتباس السوائل  انخفاض اخراج البو...</td>\n",
       "      <td>17</td>\n",
       "      <td>102</td>\n",
       "      <td>17</td>\n",
       "      <td>1</td>\n",
       "      <td>ورم قدم حبس سئل خفض خرج بول ضيق نفس لقئ الم فى...</td>\n",
       "    </tr>\n",
       "  </tbody>\n",
       "</table>\n",
       "</div>"
      ],
      "text/plain": [
       "        Disease                                           Symptoms  \\\n",
       "0   نزلات البرد  قشعريرة الشعور بالتعب السعال حمى شديدة صداع سي...   \n",
       "1  الفشل الكلوي  تورم القدمين احتباس السوائل الغثيان  انخفاض اخ...   \n",
       "2   قرحة المعدة  الم في المعدة فقدان الشهية الشعور بالشبع القيء...   \n",
       "3  الفشل الكلوي  تورم القدمين احتباس السوائل  انخفاض اخراج البو...   \n",
       "4       فيرس سي   الم في العضلات الم في المفاصل الشعور بالتعب ف...   \n",
       "5   نزلات البرد   احمرار العين احتقان الم في الصدر فقدان حاسة ا...   \n",
       "6   قرحة المعدة  فقدان الشهية الشعور بالشبع القيء الدموي فقر ال...   \n",
       "7  الفشل الكلوي  تورم القدمين احتباس السوائل  انخفاض اخراج البو...   \n",
       "8   قرحة المعدة  الم في المعدة فقدان الشهية الشعور بالشبع القيء...   \n",
       "9  الفشل الكلوي  تورم القدمين احتباس السوائل  انخفاض اخراج البو...   \n",
       "\n",
       "   word_count  char_count  unique_word_count target  \\\n",
       "0          18         103                 18      4   \n",
       "1          18         110                 18      1   \n",
       "2          12          69                 12      3   \n",
       "3          16          97                 13      1   \n",
       "4          15          87                 11      2   \n",
       "5          17          94                 16      4   \n",
       "6          11          72                 11      3   \n",
       "7          14          87                 14      1   \n",
       "8          13          75                 13      3   \n",
       "9          17         102                 17      1   \n",
       "\n",
       "                                          clean_text  \n",
       "0  قشعرير شعر تعب سعل حمى شدد صدع سيل انف حتق الم...  \n",
       "1  ورم قدم حبس سئل غثي خفض خرج بول ضيق نفس لقئ ال...  \n",
       "2        الم عدة فقد شهة شعر شبع قيء دمي فقر لدم جشؤ  \n",
       "3  ورم قدم حبس سئل خفض خرج بول ضيق نفس لقئ الم فى...  \n",
       "4  الم عضل الم فصل شعر تعب فقد شهة صفرار عين الم بطن  \n",
       "5  حمرار عين حتق الم صدر فقد حسة لشم صدع حمى شدد ...  \n",
       "6        فقد شهة شعر شبع قيء دمي فقر لدم غثي نفخ جشؤ  \n",
       "7  ورم قدم حبس سئل خفض خرج بول ضيق نفس لقئ رفع عد...  \n",
       "8    الم عدة فقد شهة شعر شبع قيء دمي فقر لدم غثي لقئ  \n",
       "9  ورم قدم حبس سئل خفض خرج بول ضيق نفس لقئ الم فى...  "
      ]
     },
     "execution_count": 14,
     "metadata": {},
     "output_type": "execute_result"
    }
   ],
   "source": [
    "def finalpreprocess(data):\n",
    "    dd=stemming(stopword(preprocess(data)))\n",
    "    return str(dd)\n",
    "\n",
    "df0['clean_text'] = df0['Symptoms'].apply(lambda x: finalpreprocess(x))\n",
    "\n",
    "\n",
    "#df0=df0.drop(columns=['word_count','char_count','unique_word_count'])\n",
    "df0.head(10)\n",
    "#df0.drop(['clean_text_tok'], axis = 1)"
   ]
  },
  {
   "cell_type": "code",
   "execution_count": 15,
   "id": "54156779",
   "metadata": {},
   "outputs": [
    {
     "ename": "NameError",
     "evalue": "name 'X_train' is not defined",
     "output_type": "error",
     "traceback": [
      "\u001b[1;31m---------------------------------------------------------------------------\u001b[0m",
      "\u001b[1;31mNameError\u001b[0m                                 Traceback (most recent call last)",
      "\u001b[1;32m<ipython-input-15-7b2298cdce25>\u001b[0m in \u001b[0;36m<module>\u001b[1;34m\u001b[0m\n\u001b[0;32m      1\u001b[0m \u001b[1;31m#tfidfvectorizer\u001b[0m\u001b[1;33m\u001b[0m\u001b[1;33m\u001b[0m\u001b[1;33m\u001b[0m\u001b[0m\n\u001b[0;32m      2\u001b[0m \u001b[0mtfidf_vectorizer\u001b[0m \u001b[1;33m=\u001b[0m \u001b[0mTfidfVectorizer\u001b[0m\u001b[1;33m(\u001b[0m\u001b[0muse_idf\u001b[0m\u001b[1;33m=\u001b[0m\u001b[1;32mTrue\u001b[0m\u001b[1;33m)\u001b[0m\u001b[1;33m\u001b[0m\u001b[1;33m\u001b[0m\u001b[0m\n\u001b[1;32m----> 3\u001b[1;33m \u001b[0mX_train_vectors_tfidf\u001b[0m \u001b[1;33m=\u001b[0m \u001b[0mtfidf_vectorizer\u001b[0m\u001b[1;33m.\u001b[0m\u001b[0mfit_transform\u001b[0m\u001b[1;33m(\u001b[0m\u001b[0mX_train\u001b[0m\u001b[1;33m)\u001b[0m \u001b[1;31m#tfidf runs on non-tokenized sentences unlike word2vec\u001b[0m\u001b[1;33m\u001b[0m\u001b[1;33m\u001b[0m\u001b[0m\n\u001b[0m\u001b[0;32m      4\u001b[0m \u001b[1;31m# Only transform x_test (not fit and transform)\u001b[0m\u001b[1;33m\u001b[0m\u001b[1;33m\u001b[0m\u001b[1;33m\u001b[0m\u001b[0m\n\u001b[0;32m      5\u001b[0m \u001b[0mX_val_vectors_tfidf\u001b[0m \u001b[1;33m=\u001b[0m \u001b[0mtfidf_vectorizer\u001b[0m\u001b[1;33m.\u001b[0m\u001b[0mtransform\u001b[0m\u001b[1;33m(\u001b[0m\u001b[0mX_val\u001b[0m\u001b[1;33m)\u001b[0m\u001b[1;33m\u001b[0m\u001b[1;33m\u001b[0m\u001b[0m\n",
      "\u001b[1;31mNameError\u001b[0m: name 'X_train' is not defined"
     ]
    }
   ],
   "source": [
    "#tfidfvectorizer\n",
    "tfidf_vectorizer = TfidfVectorizer(use_idf=True)\n",
    "X_train_vectors_tfidf = tfidf_vectorizer.fit_transform(X_train) #tfidf runs on non-tokenized sentences unlike word2vec\n",
    "# Only transform x_test (not fit and transform)\n",
    "X_val_vectors_tfidf = tfidf_vectorizer.transform(X_val)"
   ]
  },
  {
   "cell_type": "code",
   "execution_count": 16,
   "id": "78cd8144",
   "metadata": {},
   "outputs": [],
   "source": [
    "# create Word2vec model\n",
    "#here words_f should be a list containing words from each document. say 1st row of the list is words from the 1st document/sentence\n",
    "#length of words_f is number of documents/sentences in your dataset\n",
    "\n",
    "df0['clean_text_tok']=[nltk.word_tokenize(i) for i in df0['clean_text']]\n",
    "\n",
    "#convert preprocessed sentence to tokenized sentence\n",
    "#model = Word2Vec(df0['clean_text_tok'],min_count=2)  #min_count=1 means word should be present at least across all documents,\n",
    "#if min_count=2 means if the word is present less than 2 times across all the documents then we shouldn't consider it\n",
    "#w2v = dict(zip(model.wv.index2word, model.wv.vectors))  #combination of word and its vector\n",
    "\n",
    "model = Word2Vec(df0['clean_text_tok'], min_count=2)   \n",
    "w2v = dict(zip(model.wv.index_to_key, model.wv.vectors))\n",
    "\n",
    "#for converting sentence to vectors/numbers from word vectors result by Word2Vec\n",
    "class MeanEmbeddingVectorizer():\n",
    "    def __init__(self, word2vec):\n",
    "        self.word2vec = word2vec\n",
    "        # if a text is empty we should return a vector of zeros\n",
    "        # with the same dimensionality as all the other vectors\n",
    "        self.dim = len(next(iter(word2vec.values())))\n",
    "\n",
    "    def fit(self, X, y):\n",
    "        return self\n",
    "\n",
    "    def transform(self, X):\n",
    "        return np.array([\n",
    "            np.mean([self.word2vec[w] for w in words if w in self.word2vec]\n",
    "                    or [np.zeros(self.dim)], axis=0)\n",
    "            for words in X\n",
    "        ])\n",
    "    \n",
    "    \n",
    "    \n"
   ]
  },
  {
   "cell_type": "code",
   "execution_count": 23,
   "id": "8f562429",
   "metadata": {
    "scrolled": true
   },
   "outputs": [],
   "source": [
    "# Input: \"reviewText\", \"rating\" and \"time\"\n",
    "# Target: \"log_votes\"\n",
    "X_train, X_val, y_train, y_val = train_test_split(df0[\"Symptoms\"],\n",
    "                                                  df0[\"target\"],\n",
    "                                                  test_size=0.2,\n",
    "                                                  shuffle=True)\n",
    "\n",
    "X_train_tok= [nltk.word_tokenize(i) for i in X_train]  #for word2vec\n",
    "X_val_tok= [nltk.word_tokenize(i) for i in X_val]      #for word2vec\n",
    "\n",
    "#TF-IDF\n",
    "# Convert x_train to vector since model can only run on numbers and not words- Fit and transform\n",
    "tfidf_vectorizer = TfidfVectorizer(use_idf=True)\n",
    "X_train_vectors_tfidf = tfidf_vectorizer.fit_transform(X_train) #tfidf runs on non-tokenized sentences unlike word2vec\n",
    "# Only transform x_test (not fit and transform)\n",
    "X_val_vectors_tfidf = tfidf_vectorizer.transform(X_val) #Don't fit() your TfidfVectorizer to your test data: it will \n",
    "#change the word-indexes & weights to match test data. Rather, fit on the training data, then use the same train-data-\n",
    "#fit model on the test data, to reflect the fact you're analyzing the test data only based on what was learned without \n",
    "#it, and the have compatible\n",
    "\n",
    "\n",
    "#Word2vec\n",
    "# Fit and transform\n",
    "modelw = MeanEmbeddingVectorizer(w2v)\n",
    "X_train_vectors_w2v = modelw.transform(X_train_tok)\n",
    "X_val_vectors_w2v = modelw.transform(X_val_tok)"
   ]
  },
  {
   "cell_type": "code",
   "execution_count": 18,
   "id": "de3112f0-720c-4111-b844-35b1c6836292",
   "metadata": {},
   "outputs": [
    {
     "name": "stdout",
     "output_type": "stream",
     "text": [
      "              precision    recall  f1-score   support\n",
      "\n",
      "           0       1.00      1.00      1.00        18\n",
      "           1       1.00      1.00      1.00        23\n",
      "           2       1.00      1.00      1.00        19\n",
      "           3       1.00      1.00      1.00        23\n",
      "           4       1.00      1.00      1.00        19\n",
      "\n",
      "    accuracy                           1.00       102\n",
      "   macro avg       1.00      1.00      1.00       102\n",
      "weighted avg       1.00      1.00      1.00       102\n",
      "\n",
      "Confusion Matrix: [[18  0  0  0  0]\n",
      " [ 0 23  0  0  0]\n",
      " [ 0  0 19  0  0]\n",
      " [ 0  0  0 23  0]\n",
      " [ 0  0  0  0 19]]\n",
      "AUC: 1.0\n"
     ]
    }
   ],
   "source": [
    "#FITTING THE CLASSIFICATION MODEL using Naive Bayes(tf-idf)\n",
    "#It's a probabilistic classifier that makes use of Bayes' Theorem, a \n",
    "# rule that uses probability to make predictions based on prior \n",
    "# knowledge of conditions that might be related. This algorithm is the \n",
    "# most suitable for such large dataset as it considers each feature \n",
    "# independently, calculates the probability of each category, and then \n",
    "# predicts the category with the highest probability.\n",
    "\n",
    "nb_tfidf = MultinomialNB()\n",
    "nb_tfidf.fit(X_train_vectors_tfidf, y_train) #model\n",
    "#Predict y value for test dataset\n",
    "\n",
    "y_predict = nb_tfidf.predict(X_val_vectors_tfidf)\n",
    "y_prob = nb_tfidf.predict_proba(X_val_vectors_tfidf)[:,1]\n",
    "\n",
    "print(classification_report(y_val,y_predict))\n",
    "print('Confusion Matrix:',confusion_matrix(y_val, y_predict))\n",
    "\n",
    "fpr, tpr, thresholds = roc_curve(y_val, y_prob, pos_label=1)\n",
    "roc_auc = auc(fpr, tpr)\n",
    "print('AUC:', roc_auc)"
   ]
  },
  {
   "cell_type": "code",
   "execution_count": 19,
   "id": "2543dffd",
   "metadata": {},
   "outputs": [
    {
     "name": "stdout",
     "output_type": "stream",
     "text": [
      "              precision    recall  f1-score   support\n",
      "\n",
      "           0       1.00      1.00      1.00        18\n",
      "           1       1.00      1.00      1.00        23\n",
      "           2       1.00      1.00      1.00        19\n",
      "           3       1.00      1.00      1.00        23\n",
      "           4       1.00      1.00      1.00        19\n",
      "\n",
      "    accuracy                           1.00       102\n",
      "   macro avg       1.00      1.00      1.00       102\n",
      "weighted avg       1.00      1.00      1.00       102\n",
      "\n",
      "Confusion Matrix: \n",
      " [[18  0  0  0  0]\n",
      " [ 0 23  0  0  0]\n",
      " [ 0  0 19  0  0]\n",
      " [ 0  0  0 23  0]\n",
      " [ 0  0  0  0 19]]\n",
      "AUC: 1.0\n"
     ]
    }
   ],
   "source": [
    "#FITTING THE CLASSIFICATION MODEL using Logistic Regression(tf-idf)\n",
    "\n",
    "lr_tfidf=LogisticRegression(solver = 'liblinear',C=10,penalty = 'l2')\n",
    "lr_tfidf.fit(X_train_vectors_tfidf, y_train)  #model\n",
    "\n",
    "#Predict y value for test dataset\n",
    "y_predict = lr_tfidf.predict(X_val_vectors_tfidf)\n",
    "y_prob = lr_tfidf.predict_proba(X_val_vectors_tfidf)[:,1]\n",
    "\n",
    "\n",
    "print(classification_report(y_val,y_predict))\n",
    "print('Confusion Matrix: \\n',confusion_matrix(y_val, y_predict))\n",
    " \n",
    "    \n",
    "#fpr,tpr,thresholds = metrics.accuracy_score(y_val, y_prob)    \n",
    "#fpr,tpr,thresholds = confusion_matrix(y_val, y_prob,labels=[\"القلق\",\"اكتئاب\",\"ميول انتحاريه\"])\n",
    "\n",
    "fpr,tpr,thresholds = metrics.roc_curve(y_val, y_prob,pos_label=1)\n",
    "roc_auc = auc(fpr, tpr)\n",
    "print('AUC:', roc_auc)"
   ]
  },
  {
   "cell_type": "code",
   "execution_count": 24,
   "id": "979d7e2d",
   "metadata": {},
   "outputs": [
    {
     "name": "stdout",
     "output_type": "stream",
     "text": [
      "              precision    recall  f1-score   support\n",
      "\n",
      "           0       0.60      0.21      0.32        14\n",
      "           1       1.00      0.90      0.95        21\n",
      "           2       1.00      1.00      1.00        23\n",
      "           3       1.00      1.00      1.00        21\n",
      "           4       0.68      1.00      0.81        23\n",
      "\n",
      "    accuracy                           0.87       102\n",
      "   macro avg       0.86      0.82      0.81       102\n",
      "weighted avg       0.87      0.87      0.85       102\n",
      "\n",
      "Confusion Matrix: [[ 3  0  0  0 11]\n",
      " [ 2 19  0  0  0]\n",
      " [ 0  0 23  0  0]\n",
      " [ 0  0  0 21  0]\n",
      " [ 0  0  0  0 23]]\n",
      "AUC: 0.9750146972369195\n"
     ]
    }
   ],
   "source": [
    "#FITTING THE CLASSIFICATION MODEL using Logistic Regression (W2v)\n",
    "lr_w2v=LogisticRegression(solver = 'liblinear', C=10, penalty = 'l2')\n",
    "lr_w2v.fit(X_train_vectors_w2v, y_train) #model\n",
    "\n",
    "#Predict y value for test dataset\n",
    "y_predict = lr_w2v.predict(X_val_vectors_w2v)\n",
    "y_prob = lr_w2v.predict_proba(X_val_vectors_w2v)[:,1]\n",
    "\n",
    "print(classification_report(y_val,y_predict))\n",
    "print('Confusion Matrix:',confusion_matrix(y_val, y_predict))\n",
    "\n",
    "fpr, tpr, thresholds = roc_curve(y_val, y_prob, pos_label=1)\n",
    "roc_auc = auc(fpr, tpr)\n",
    "print('AUC:', roc_auc)"
   ]
  },
  {
   "cell_type": "code",
   "execution_count": 21,
   "id": "7ba7a3f0",
   "metadata": {},
   "outputs": [
    {
     "data": {
      "text/plain": [
       "0.8137254901960784"
      ]
     },
     "execution_count": 21,
     "metadata": {},
     "output_type": "execute_result"
    }
   ],
   "source": [
    "accuracy_score(y_val, y_predict)"
   ]
  },
  {
   "cell_type": "code",
   "execution_count": 22,
   "id": "00c02fe9",
   "metadata": {},
   "outputs": [],
   "source": [
    "y_predict = lr_tfidf.predict(X_val_vectors_tfidf)"
   ]
  },
  {
   "cell_type": "code",
   "execution_count": 27,
   "id": "e2611c7b",
   "metadata": {},
   "outputs": [],
   "source": [
    "#save model \n",
    "#import joblib \n",
    "\n",
    "#joblib.dump(lr_tfidf,r'lr_tfidf.pkl')"
   ]
  },
  {
   "cell_type": "code",
   "execution_count": null,
   "id": "3655cc28",
   "metadata": {},
   "outputs": [],
   "source": [
    "#save tfidfvectorizer \n",
    "#joblib.dump(tfidf_vectorizer,r'tfidf_vectorizer.pkl')"
   ]
  },
  {
   "cell_type": "code",
   "execution_count": null,
   "id": "ae17b0e5",
   "metadata": {},
   "outputs": [],
   "source": []
  }
 ],
 "metadata": {
  "kernelspec": {
   "display_name": "Python 3",
   "language": "python",
   "name": "python3"
  },
  "language_info": {
   "codemirror_mode": {
    "name": "ipython",
    "version": 3
   },
   "file_extension": ".py",
   "mimetype": "text/x-python",
   "name": "python",
   "nbconvert_exporter": "python",
   "pygments_lexer": "ipython3",
   "version": "3.8.8"
  }
 },
 "nbformat": 4,
 "nbformat_minor": 5
}
